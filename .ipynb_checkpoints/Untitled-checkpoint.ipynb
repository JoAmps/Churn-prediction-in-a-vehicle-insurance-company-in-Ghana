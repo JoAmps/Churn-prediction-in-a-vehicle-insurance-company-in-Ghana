{
 "cells": [
  {
   "cell_type": "code",
   "execution_count": 1,
   "id": "e76008c6",
   "metadata": {},
   "outputs": [],
   "source": [
    "import os\n",
    "import json\n",
    "import glob\n",
    "import pandas as pd\n",
    "import pickle\n",
    "import numpy as np\n",
    "import ast\n",
    "import logging"
   ]
  },
  {
   "cell_type": "code",
   "execution_count": 4,
   "id": "2bd27f63",
   "metadata": {},
   "outputs": [
    {
     "name": "stdout",
     "output_type": "stream",
     "text": [
      "Aptfile                       \u001b[34mfunctions\u001b[m\u001b[m\r\n",
      "Procfile                      monitoring.py\r\n",
      "Untitled.ipynb                \u001b[34moutputs\u001b[m\u001b[m\r\n",
      "Vehicle insurance churn.ipynb requirements.txt\r\n",
      "\u001b[34m__pycache__\u001b[m\u001b[m                   setup.py\r\n",
      "app.py                        test_model.py\r\n",
      "clean_data.py                 train.py\r\n",
      "\u001b[34mdatasets\u001b[m\u001b[m\r\n"
     ]
    }
   ],
   "source": [
    "!ls"
   ]
  },
  {
   "cell_type": "code",
   "execution_count": 36,
   "id": "54970783",
   "metadata": {},
   "outputs": [
    {
     "data": {
      "text/html": [
       "<div>\n",
       "<style scoped>\n",
       "    .dataframe tbody tr th:only-of-type {\n",
       "        vertical-align: middle;\n",
       "    }\n",
       "\n",
       "    .dataframe tbody tr th {\n",
       "        vertical-align: top;\n",
       "    }\n",
       "\n",
       "    .dataframe thead th {\n",
       "        text-align: right;\n",
       "    }\n",
       "</style>\n",
       "<table border=\"1\" class=\"dataframe\">\n",
       "  <thead>\n",
       "    <tr style=\"text-align: right;\">\n",
       "      <th></th>\n",
       "      <th>Unnamed: 0</th>\n",
       "      <th>city</th>\n",
       "      <th>churn</th>\n",
       "      <th>type_of_plan</th>\n",
       "      <th>highest_level_education</th>\n",
       "      <th>work_status</th>\n",
       "      <th>sex</th>\n",
       "      <th>relationship_status</th>\n",
       "      <th>payment_per_month</th>\n",
       "      <th>weeks_since_claim</th>\n",
       "      <th>open_policies</th>\n",
       "      <th>Renew_Offer_Type</th>\n",
       "      <th>reachability</th>\n",
       "      <th>type_of_vehicle</th>\n",
       "    </tr>\n",
       "  </thead>\n",
       "  <tbody>\n",
       "    <tr>\n",
       "      <th>0</th>\n",
       "      <td>0</td>\n",
       "      <td>Tamale</td>\n",
       "      <td>No</td>\n",
       "      <td>primary_plan</td>\n",
       "      <td>Bachelor</td>\n",
       "      <td>Employed</td>\n",
       "      <td>female</td>\n",
       "      <td>Married</td>\n",
       "      <td>138</td>\n",
       "      <td>138</td>\n",
       "      <td>1</td>\n",
       "      <td>1</td>\n",
       "      <td>contacting_agent</td>\n",
       "      <td>2-door_car</td>\n",
       "    </tr>\n",
       "    <tr>\n",
       "      <th>1</th>\n",
       "      <td>1</td>\n",
       "      <td>Takoradi</td>\n",
       "      <td>No</td>\n",
       "      <td>extended_plan</td>\n",
       "      <td>Bachelor</td>\n",
       "      <td>Unemployed</td>\n",
       "      <td>female</td>\n",
       "      <td>Single</td>\n",
       "      <td>188</td>\n",
       "      <td>56</td>\n",
       "      <td>8</td>\n",
       "      <td>3</td>\n",
       "      <td>contacting_agent</td>\n",
       "      <td>4-door_car</td>\n",
       "    </tr>\n",
       "    <tr>\n",
       "      <th>2</th>\n",
       "      <td>2</td>\n",
       "      <td>Cape_coast</td>\n",
       "      <td>No</td>\n",
       "      <td>premium_plan</td>\n",
       "      <td>Bachelor</td>\n",
       "      <td>Employed</td>\n",
       "      <td>female</td>\n",
       "      <td>Married</td>\n",
       "      <td>216</td>\n",
       "      <td>77</td>\n",
       "      <td>2</td>\n",
       "      <td>1</td>\n",
       "      <td>contacting_agent</td>\n",
       "      <td>2-door_car</td>\n",
       "    </tr>\n",
       "    <tr>\n",
       "      <th>3</th>\n",
       "      <td>3</td>\n",
       "      <td>Accra</td>\n",
       "      <td>No</td>\n",
       "      <td>primary_plan</td>\n",
       "      <td>Bachelor</td>\n",
       "      <td>Unemployed</td>\n",
       "      <td>male</td>\n",
       "      <td>Married</td>\n",
       "      <td>212</td>\n",
       "      <td>77</td>\n",
       "      <td>7</td>\n",
       "      <td>1</td>\n",
       "      <td>customer_call_centre</td>\n",
       "      <td>SUV</td>\n",
       "    </tr>\n",
       "    <tr>\n",
       "      <th>4</th>\n",
       "      <td>4</td>\n",
       "      <td>Tamale</td>\n",
       "      <td>No</td>\n",
       "      <td>primary_plan</td>\n",
       "      <td>Bachelor</td>\n",
       "      <td>Employed</td>\n",
       "      <td>male</td>\n",
       "      <td>Single</td>\n",
       "      <td>146</td>\n",
       "      <td>52</td>\n",
       "      <td>1</td>\n",
       "      <td>1</td>\n",
       "      <td>contacting_agent</td>\n",
       "      <td>4-door_car</td>\n",
       "    </tr>\n",
       "    <tr>\n",
       "      <th>...</th>\n",
       "      <td>...</td>\n",
       "      <td>...</td>\n",
       "      <td>...</td>\n",
       "      <td>...</td>\n",
       "      <td>...</td>\n",
       "      <td>...</td>\n",
       "      <td>...</td>\n",
       "      <td>...</td>\n",
       "      <td>...</td>\n",
       "      <td>...</td>\n",
       "      <td>...</td>\n",
       "      <td>...</td>\n",
       "      <td>...</td>\n",
       "      <td>...</td>\n",
       "    </tr>\n",
       "    <tr>\n",
       "      <th>9129</th>\n",
       "      <td>9129</td>\n",
       "      <td>Accra</td>\n",
       "      <td>No</td>\n",
       "      <td>primary_plan</td>\n",
       "      <td>Bachelor</td>\n",
       "      <td>Employed</td>\n",
       "      <td>male</td>\n",
       "      <td>Married</td>\n",
       "      <td>146</td>\n",
       "      <td>77</td>\n",
       "      <td>2</td>\n",
       "      <td>2</td>\n",
       "      <td>via_the_web</td>\n",
       "      <td>4-door_car</td>\n",
       "    </tr>\n",
       "    <tr>\n",
       "      <th>9130</th>\n",
       "      <td>9130</td>\n",
       "      <td>Accra</td>\n",
       "      <td>Yes</td>\n",
       "      <td>extended_plan</td>\n",
       "      <td>College</td>\n",
       "      <td>Employed</td>\n",
       "      <td>female</td>\n",
       "      <td>Divorced</td>\n",
       "      <td>158</td>\n",
       "      <td>60</td>\n",
       "      <td>1</td>\n",
       "      <td>1</td>\n",
       "      <td>contacting_branch_directly</td>\n",
       "      <td>4-door_car</td>\n",
       "    </tr>\n",
       "    <tr>\n",
       "      <th>9131</th>\n",
       "      <td>9131</td>\n",
       "      <td>Accra</td>\n",
       "      <td>No</td>\n",
       "      <td>extended_plan</td>\n",
       "      <td>Bachelor</td>\n",
       "      <td>Unemployed</td>\n",
       "      <td>male</td>\n",
       "      <td>Single</td>\n",
       "      <td>170</td>\n",
       "      <td>39</td>\n",
       "      <td>2</td>\n",
       "      <td>1</td>\n",
       "      <td>contacting_branch_directly</td>\n",
       "      <td>4-door_car</td>\n",
       "    </tr>\n",
       "    <tr>\n",
       "      <th>9132</th>\n",
       "      <td>9132</td>\n",
       "      <td>Accra</td>\n",
       "      <td>No</td>\n",
       "      <td>extended_plan</td>\n",
       "      <td>College</td>\n",
       "      <td>Employed</td>\n",
       "      <td>male</td>\n",
       "      <td>Married</td>\n",
       "      <td>192</td>\n",
       "      <td>146</td>\n",
       "      <td>3</td>\n",
       "      <td>3</td>\n",
       "      <td>contacting_branch_directly</td>\n",
       "      <td>4-door_car</td>\n",
       "    </tr>\n",
       "    <tr>\n",
       "      <th>9133</th>\n",
       "      <td>9133</td>\n",
       "      <td>Accra</td>\n",
       "      <td>No</td>\n",
       "      <td>extended_plan</td>\n",
       "      <td>College</td>\n",
       "      <td>Unemployed</td>\n",
       "      <td>male</td>\n",
       "      <td>Single</td>\n",
       "      <td>154</td>\n",
       "      <td>13</td>\n",
       "      <td>1</td>\n",
       "      <td>4</td>\n",
       "      <td>customer_call_centre</td>\n",
       "      <td>2-door_car</td>\n",
       "    </tr>\n",
       "  </tbody>\n",
       "</table>\n",
       "<p>9134 rows × 14 columns</p>\n",
       "</div>"
      ],
      "text/plain": [
       "      Unnamed: 0        city churn   type_of_plan highest_level_education  \\\n",
       "0              0      Tamale    No   primary_plan                Bachelor   \n",
       "1              1    Takoradi    No  extended_plan                Bachelor   \n",
       "2              2  Cape_coast    No   premium_plan                Bachelor   \n",
       "3              3       Accra    No   primary_plan                Bachelor   \n",
       "4              4      Tamale    No   primary_plan                Bachelor   \n",
       "...          ...         ...   ...            ...                     ...   \n",
       "9129        9129       Accra    No   primary_plan                Bachelor   \n",
       "9130        9130       Accra   Yes  extended_plan                 College   \n",
       "9131        9131       Accra    No  extended_plan                Bachelor   \n",
       "9132        9132       Accra    No  extended_plan                 College   \n",
       "9133        9133       Accra    No  extended_plan                 College   \n",
       "\n",
       "     work_status     sex relationship_status  payment_per_month  \\\n",
       "0       Employed  female             Married                138   \n",
       "1     Unemployed  female              Single                188   \n",
       "2       Employed  female             Married                216   \n",
       "3     Unemployed    male             Married                212   \n",
       "4       Employed    male              Single                146   \n",
       "...          ...     ...                 ...                ...   \n",
       "9129    Employed    male             Married                146   \n",
       "9130    Employed  female            Divorced                158   \n",
       "9131  Unemployed    male              Single                170   \n",
       "9132    Employed    male             Married                192   \n",
       "9133  Unemployed    male              Single                154   \n",
       "\n",
       "      weeks_since_claim  open_policies  Renew_Offer_Type  \\\n",
       "0                   138              1                 1   \n",
       "1                    56              8                 3   \n",
       "2                    77              2                 1   \n",
       "3                    77              7                 1   \n",
       "4                    52              1                 1   \n",
       "...                 ...            ...               ...   \n",
       "9129                 77              2                 2   \n",
       "9130                 60              1                 1   \n",
       "9131                 39              2                 1   \n",
       "9132                146              3                 3   \n",
       "9133                 13              1                 4   \n",
       "\n",
       "                    reachability type_of_vehicle  \n",
       "0               contacting_agent      2-door_car  \n",
       "1               contacting_agent      4-door_car  \n",
       "2               contacting_agent      2-door_car  \n",
       "3           customer_call_centre             SUV  \n",
       "4               contacting_agent      4-door_car  \n",
       "...                          ...             ...  \n",
       "9129                 via_the_web      4-door_car  \n",
       "9130  contacting_branch_directly      4-door_car  \n",
       "9131  contacting_branch_directly      4-door_car  \n",
       "9132  contacting_branch_directly      4-door_car  \n",
       "9133        customer_call_centre      2-door_car  \n",
       "\n",
       "[9134 rows x 14 columns]"
      ]
     },
     "execution_count": 36,
     "metadata": {},
     "output_type": "execute_result"
    }
   ],
   "source": [
    "input_data = glob.glob(f'datasets/*.csv')\n",
    "current_data=glob.glob(f'datasets/cleaned_data*.csv')\n",
    "latest_data=[max(input_data, key=os.path.getctime)]\n",
    "\n",
    "\n",
    "pd.concat([pd.read_csv(i) for i in (current_data)])"
   ]
  },
  {
   "cell_type": "code",
   "execution_count": null,
   "id": "b09a0992",
   "metadata": {},
   "outputs": [],
   "source": []
  },
  {
   "cell_type": "code",
   "execution_count": null,
   "id": "acd79ad9",
   "metadata": {},
   "outputs": [],
   "source": []
  },
  {
   "cell_type": "code",
   "execution_count": 19,
   "id": "4da8c442",
   "metadata": {},
   "outputs": [
    {
     "data": {
      "text/plain": [
       "'datasets/cleaned_data.csv'"
      ]
     },
     "execution_count": 19,
     "metadata": {},
     "output_type": "execute_result"
    }
   ],
   "source": [
    "latest_data"
   ]
  },
  {
   "cell_type": "code",
   "execution_count": 21,
   "id": "6f3f3767",
   "metadata": {},
   "outputs": [
    {
     "data": {
      "text/plain": [
       "['datasets/cleaned_data.csv']"
      ]
     },
     "execution_count": 21,
     "metadata": {},
     "output_type": "execute_result"
    }
   ],
   "source": [
    "glob.glob(f'datasets/cleaned_data*.csv')"
   ]
  },
  {
   "cell_type": "code",
   "execution_count": 29,
   "id": "d46b2979",
   "metadata": {},
   "outputs": [
    {
     "name": "stdout",
     "output_type": "stream",
     "text": [
      "['datasets/cleaned_data.csv', 'datasets/raw_data.csv']\n",
      "['datasets/cleaned_data.csv']\n",
      "['datasets/cleaned_data.csv']\n"
     ]
    }
   ],
   "source": [
    "print(input_data)\n",
    "print(current_data)\n",
    "print(latest_data)"
   ]
  },
  {
   "cell_type": "code",
   "execution_count": 42,
   "id": "c0e0a208",
   "metadata": {},
   "outputs": [],
   "source": [
    "with open('outputs/recall_score.txt', 'r') as fp:\n",
    "    contents=ast.literal_eval(fp.read())"
   ]
  },
  {
   "cell_type": "code",
   "execution_count": 43,
   "id": "c96099a1",
   "metadata": {},
   "outputs": [
    {
     "data": {
      "text/plain": [
       "0.8931297709923665"
      ]
     },
     "execution_count": 43,
     "metadata": {},
     "output_type": "execute_result"
    }
   ],
   "source": [
    "contents"
   ]
  },
  {
   "cell_type": "code",
   "execution_count": 54,
   "id": "436e63b5",
   "metadata": {},
   "outputs": [],
   "source": [
    "new_recall=0.81"
   ]
  },
  {
   "cell_type": "code",
   "execution_count": 53,
   "id": "2bbed633",
   "metadata": {},
   "outputs": [
    {
     "data": {
      "text/plain": [
       "1.3931297709923665"
      ]
     },
     "execution_count": 53,
     "metadata": {},
     "output_type": "execute_result"
    }
   ],
   "source": [
    "0.5+contents"
   ]
  },
  {
   "cell_type": "code",
   "execution_count": 58,
   "id": "8bc72b20",
   "metadata": {},
   "outputs": [
    {
     "name": "stdout",
     "output_type": "stream",
     "text": [
      "False\n"
     ]
    }
   ],
   "source": [
    "print(new_recall>contents)\n",
    "\n",
    "#print((newr2)< (np.mean(contents)-(2*np.std(contents))))"
   ]
  },
  {
   "cell_type": "code",
   "execution_count": 62,
   "id": "92ce35eb",
   "metadata": {},
   "outputs": [
    {
     "data": {
      "text/plain": [
       "False"
      ]
     },
     "execution_count": 62,
     "metadata": {},
     "output_type": "execute_result"
    }
   ],
   "source": [
    "new_recall>np.max(contents)"
   ]
  },
  {
   "cell_type": "code",
   "execution_count": 65,
   "id": "c6053224",
   "metadata": {},
   "outputs": [
    {
     "name": "stdout",
     "output_type": "stream",
     "text": [
      "no new data available\n",
      "end process\n"
     ]
    }
   ],
   "source": [
    "input_data = glob.glob(f'datasets/*.csv')\n",
    "current_data=glob.glob(f'datasets/cleaned_data*.csv')\n",
    "latest_data=[max(input_data, key=os.path.getctime)]\n",
    "if latest_data == current_data:\n",
    "    print('no new data available')\n",
    "    print('end process')\n",
    "    exit\n",
    "else:\n",
    "    print('new_data_available')\n",
    "    with open('outputs/recall_score.txt', 'r') as fp:\n",
    "        previous_recall_score=ast.literal_eval(fp.read())\n",
    "    os.system('clean_data.py')\n",
    "    os.system('train.py')\n",
    "    with open('outputs/recall_score.txt', 'r') as fp:\n",
    "        current_recall_score=ast.literal_eval(fp.read())\n",
    "    if current_recall_score<np.max(previous_recall_score)!=True:\n",
    "        print('model_drift not occurred')\n",
    "        print('end process')\n",
    "        exit\n",
    "    else:\n",
    "         print('model_drift occurred')\n",
    "         print('further_investigation_warranted')    "
   ]
  },
  {
   "cell_type": "code",
   "execution_count": null,
   "id": "c4c1f059",
   "metadata": {},
   "outputs": [],
   "source": [
    "#ingested_files = open(f'{prod_path}/ingestedfiles.txt', 'r')\n",
    "input_data=glob.glob(f'datasets/*.csv')\n",
    "latest_data=max(input_data, key=os.path.getctime)\n",
    "if latest_data"
   ]
  },
  {
   "cell_type": "code",
   "execution_count": 12,
   "id": "2ad46692",
   "metadata": {},
   "outputs": [
    {
     "data": {
      "text/plain": [
       "'datasets/cleaned_data.csv'"
      ]
     },
     "execution_count": 12,
     "metadata": {},
     "output_type": "execute_result"
    }
   ],
   "source": [
    "max(input_data, key=os.path.getctime)"
   ]
  },
  {
   "cell_type": "code",
   "execution_count": 8,
   "id": "8efa17b6",
   "metadata": {},
   "outputs": [
    {
     "data": {
      "text/plain": [
       "'datasets/raw_data.csv'"
      ]
     },
     "execution_count": 8,
     "metadata": {},
     "output_type": "execute_result"
    }
   ],
   "source": [
    "max(input_data)"
   ]
  },
  {
   "cell_type": "code",
   "execution_count": null,
   "id": "fcbef409",
   "metadata": {},
   "outputs": [],
   "source": [
    "current_datasets = glob.glob(f'{input_folder_path}/*.csv')\n",
    "        with open('ingesteddata/ingestedfiles.txt', 'w') as f:\n",
    "            for dataset in current_datasets:\n",
    "                f.write(dataset[13:])\n",
    "                f.write('\\n')"
   ]
  },
  {
   "cell_type": "code",
   "execution_count": null,
   "id": "52e3747a",
   "metadata": {},
   "outputs": [],
   "source": []
  },
  {
   "cell_type": "code",
   "execution_count": null,
   "id": "505d6020",
   "metadata": {},
   "outputs": [],
   "source": [
    "for x in ingested_files:\n",
    "        for y in input_data:\n",
    "             result=x==y"
   ]
  },
  {
   "cell_type": "code",
   "execution_count": null,
   "id": "5ca4a0ee",
   "metadata": {},
   "outputs": [],
   "source": []
  }
 ],
 "metadata": {
  "kernelspec": {
   "display_name": "Python 3.8.12 64-bit ('py36': conda)",
   "language": "python",
   "name": "python3812jvsc74a57bd0d4f6b8ba5c30944ddc3f08aa754190fc9fa0c8ffa5eadb59838767fd4f7c97d5"
  },
  "language_info": {
   "codemirror_mode": {
    "name": "ipython",
    "version": 3
   },
   "file_extension": ".py",
   "mimetype": "text/x-python",
   "name": "python",
   "nbconvert_exporter": "python",
   "pygments_lexer": "ipython3",
   "version": "3.8.12"
  }
 },
 "nbformat": 4,
 "nbformat_minor": 5
}
